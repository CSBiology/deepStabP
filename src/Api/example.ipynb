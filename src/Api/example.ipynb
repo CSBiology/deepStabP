{
 "cells": [
  {
   "cell_type": "code",
   "execution_count": 2,
   "metadata": {},
   "outputs": [],
   "source": [
    "# https://github.com/CSBiology/deepStabP/blob/main/src/Api/requirements.txt\n",
    "from pydantic import BaseModel\n",
    "from transformers import  T5EncoderModel, T5Tokenizer\n",
    "from tqdm.auto import *\n",
    "import gc\n",
    "from app.predictor import * "
   ]
  },
  {
   "cell_type": "code",
   "execution_count": 3,
   "metadata": {},
   "outputs": [
    {
     "name": "stderr",
     "output_type": "stream",
     "text": [
      "You are using the default legacy behaviour of the <class 'transformers.models.t5.tokenization_t5.T5Tokenizer'>. This is expected, and simply means that the `legacy` (previous) behavior will be used so nothing changes for you. If you want to use the new behaviour, set `legacy=False`. This should only be set if you understand what it means, and thoroughly read the reason why this was added as explained in https://github.com/huggingface/transformers/pull/24565\n",
      "/usr/local/lib/python3.11/dist-packages/transformers/tokenization_utils_base.py:1601: FutureWarning: `clean_up_tokenization_spaces` was not set. It will be set to `True` by default. This behavior will be depracted in transformers v4.45, and will be then set to `False` by default. For more details check this issue: https://github.com/huggingface/transformers/issues/31884\n",
      "  warnings.warn(\n",
      "Lightning automatically upgraded your loaded checkpoint from v1.7.7 to v2.5.0.post0. To apply the upgrade to your files permanently, run `python -m pytorch_lightning.utilities.upgrade_checkpoint trained_model/b25_sampled_10k_tuned_2_d01/checkpoints/epoch=1-step=2316.ckpt`\n"
     ]
    },
    {
     "data": {
      "text/plain": [
       "deepSTAPpMLP(\n",
       "  (zero_layer): Linear(in_features=1064, out_features=4098, bias=True)\n",
       "  (zero_dropout): Dropout1d(p=0.1, inplace=False)\n",
       "  (first_layer): Linear(in_features=4098, out_features=512, bias=True)\n",
       "  (first_dropout): Dropout1d(p=0.1, inplace=False)\n",
       "  (second_layer): Linear(in_features=512, out_features=256, bias=True)\n",
       "  (second_dropout): Dropout1d(p=0.1, inplace=False)\n",
       "  (third_layer): Linear(in_features=256, out_features=128, bias=True)\n",
       "  (third_dropout): Dropout1d(p=0.1, inplace=False)\n",
       "  (seventh_layer): Linear(in_features=128, out_features=1, bias=True)\n",
       "  (species_layer_one): Linear(in_features=1, out_features=20, bias=True)\n",
       "  (species_layer_two): Linear(in_features=20, out_features=20, bias=True)\n",
       "  (species_dropout): Dropout1d(p=0.1, inplace=False)\n",
       "  (batch_norm0): LayerNorm((4098,), eps=1e-05, elementwise_affine=True)\n",
       "  (batch_norm1): LayerNorm((512,), eps=1e-05, elementwise_affine=True)\n",
       "  (batch_norm2): LayerNorm((256,), eps=1e-05, elementwise_affine=True)\n",
       "  (batch_norm3): LayerNorm((128,), eps=1e-05, elementwise_affine=True)\n",
       "  (lysate): Linear(in_features=1, out_features=20, bias=True)\n",
       "  (lysate2): Linear(in_features=20, out_features=10, bias=True)\n",
       "  (lysate_dropout): Dropout1d(p=0.1, inplace=False)\n",
       "  (cell): Linear(in_features=1, out_features=20, bias=True)\n",
       "  (cell2): Linear(in_features=20, out_features=10, bias=True)\n",
       "  (cell_dropout): Dropout1d(p=0.1, inplace=False)\n",
       ")"
      ]
     },
     "execution_count": 3,
     "metadata": {},
     "output_type": "execute_result"
    }
   ],
   "source": [
    "# mirrored in dotnet Shared/DeepStabP.Types.fs\n",
    "class FastaRecord(BaseModel):\n",
    "    header      : str\n",
    "    sequence    : str\n",
    "\n",
    "# mirrored in dotnet Shared/DeepStabP.Types.fs\n",
    "class PredictorInfo(BaseModel):\n",
    "    growth_temp : int\n",
    "    mt_mode     : str # \"Lysate\" or \"Cell\"\n",
    "    fasta       : list[FastaRecord]\n",
    "\n",
    "tokenizer = T5Tokenizer.from_pretrained(\"Rostlab/prot_t5_xl_uniref50\", do_lower_case=False )\n",
    "model = T5EncoderModel.from_pretrained(\"Rostlab/prot_t5_xl_uniref50\")\n",
    "gc.collect()\n",
    "# https://github.com/CSBiology/deepStabP/tree/main/src/Api/trained_model/b25_sampled_10k_tuned_2_d01\n",
    "prediction_net = deepSTAPpMLP.load_from_checkpoint (\"trained_model/b25_sampled_10k_tuned_2_d01/checkpoints/epoch=1-step=2316.ckpt\")\n",
    "prediction_net.to(\"cpu\")"
   ]
  },
  {
   "cell_type": "code",
   "execution_count": 4,
   "metadata": {},
   "outputs": [],
   "source": [
    "# The processing can be found here: https://github.com/CSBiology/deepStabP/blob/main/src/Server/FastaReader.fs\n",
    "# Replace 'O', 'U', 'J', 'Z', 'B' with \"X\" (None in this example)\n",
    "SingleFastaMinimal = \"\"\">ExampleName\"\n",
    "MAQYHQQHEMKQTMAETQYVTAPPPMGYPVMMKDSPQTVQPPHEGQSKGSGGFLRGCLAAMCCCCVLDCVF\"\"\"\n",
    "\n",
    "SeqTransform = \"MAQYHQQHEMKQTMAETQYVTAPPPMGYPVMMKDSPQTVQPPHEGQSKGSGGFLRGCLAAMCCCCVLDCVF\"\n",
    "SeqTransform = \"\".join([char + \" \" for char in SeqTransform])\n",
    "SeqTransform = SeqTransform.strip()\n",
    "fasta_record_1 = FastaRecord(header=\"ExampleName\", sequence=SeqTransform)\n",
    "\n",
    "predictor_info = PredictorInfo(\n",
    "    growth_temp=37,\n",
    "    mt_mode=\"Lysate\",\n",
    "    fasta=[fasta_record_1]\n",
    ")"
   ]
  },
  {
   "cell_type": "code",
   "execution_count": 5,
   "metadata": {},
   "outputs": [
    {
     "data": {
      "text/plain": [
       "device(type='cpu')"
      ]
     },
     "execution_count": 5,
     "metadata": {},
     "output_type": "execute_result"
    }
   ],
   "source": [
    "model.device"
   ]
  },
  {
   "cell_type": "code",
   "execution_count": 6,
   "metadata": {},
   "outputs": [
    {
     "data": {
      "text/plain": [
       "[FastaRecord(header='ExampleName', sequence='M A Q Y H Q Q H E M K Q T M A E T Q Y V T A P P P M G Y P V M M K D S P Q T V Q P P H E G Q S K G S G G F L R G C L A A M C C C C V L D C V F')]"
      ]
     },
     "execution_count": 6,
     "metadata": {},
     "output_type": "execute_result"
    }
   ],
   "source": [
    "predictor_info.fasta"
   ]
  },
  {
   "cell_type": "code",
   "execution_count": 7,
   "metadata": {},
   "outputs": [
    {
     "data": {
      "text/plain": [
       "device(type='cpu')"
      ]
     },
     "execution_count": 7,
     "metadata": {},
     "output_type": "execute_result"
    }
   ],
   "source": [
    "prediction_net.device"
   ]
  },
  {
   "cell_type": "code",
   "execution_count": 8,
   "metadata": {},
   "outputs": [
    {
     "data": {
      "text/html": [
       "<div>\n",
       "<style scoped>\n",
       "    .dataframe tbody tr th:only-of-type {\n",
       "        vertical-align: middle;\n",
       "    }\n",
       "\n",
       "    .dataframe tbody tr th {\n",
       "        vertical-align: top;\n",
       "    }\n",
       "\n",
       "    .dataframe thead th {\n",
       "        text-align: right;\n",
       "    }\n",
       "</style>\n",
       "<table border=\"1\" class=\"dataframe\">\n",
       "  <thead>\n",
       "    <tr style=\"text-align: right;\">\n",
       "      <th></th>\n",
       "      <th>Protein</th>\n",
       "      <th>Tm</th>\n",
       "    </tr>\n",
       "  </thead>\n",
       "  <tbody>\n",
       "    <tr>\n",
       "      <th>0</th>\n",
       "      <td>ExampleName</td>\n",
       "      <td>53.441023</td>\n",
       "    </tr>\n",
       "  </tbody>\n",
       "</table>\n",
       "</div>"
      ],
      "text/plain": [
       "       Protein         Tm\n",
       "0  ExampleName  53.441023"
      ]
     },
     "execution_count": 8,
     "metadata": {},
     "output_type": "execute_result"
    }
   ],
   "source": [
    "prediction = determine_tm (predictor_info.fasta, predictor_info.mt_mode, predictor_info.growth_temp, model, prediction_net, new_features, tokenizer)\n",
    "prediction\n"
   ]
  },
  {
   "cell_type": "markdown",
   "metadata": {},
   "source": [
    "Expecting:\n",
    "\n",
    "| index | Protein     | Melting temperature [°C] |\n",
    "|-------|-------------|--------------------------|\n",
    "| 0     | ExampleName | 53.441018546246454       |"
   ]
  }
 ],
 "metadata": {
  "kernelspec": {
   "display_name": "Python 3",
   "language": "python",
   "name": "python3"
  },
  "language_info": {
   "codemirror_mode": {
    "name": "ipython",
    "version": 3
   },
   "file_extension": ".py",
   "mimetype": "text/x-python",
   "name": "python",
   "nbconvert_exporter": "python",
   "pygments_lexer": "ipython3",
   "version": "3.11.0rc1"
  }
 },
 "nbformat": 4,
 "nbformat_minor": 2
}
